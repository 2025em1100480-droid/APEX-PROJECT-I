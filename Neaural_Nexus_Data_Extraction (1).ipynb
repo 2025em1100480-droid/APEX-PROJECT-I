{
 "cells": [
  {
   "cell_type": "code",
   "execution_count": 94,
   "id": "eb5a2213-d12a-42b5-8766-54d6ac6f16bb",
   "metadata": {},
   "outputs": [
    {
     "name": "stdout",
     "output_type": "stream",
     "text": [
      "Hello World. Lets start our journey towards Data Scien & AI\n"
     ]
    }
   ],
   "source": [
    "print('Hello World. Lets start our journey towards Data Scien & AI')"
   ]
  },
  {
   "cell_type": "code",
   "execution_count": 95,
   "id": "c1ee4099-657e-4a72-9741-1ed92c6a1844",
   "metadata": {},
   "outputs": [],
   "source": [
    "# Import the pandas library\n",
    "import pandas as pd"
   ]
  },
  {
   "cell_type": "markdown",
   "id": "4017354f-b8fc-4848-be3a-a4f1675da518",
   "metadata": {},
   "source": [
    "# Accessing the Downloaded .csv Dataset File"
   ]
  },
  {
   "cell_type": "code",
   "execution_count": 96,
   "id": "bc599c6a-bb7d-48ac-abd2-e33c70162cd0",
   "metadata": {},
   "outputs": [],
   "source": [
    "df = pd.read_csv('online_retail.csv')"
   ]
  },
  {
   "cell_type": "code",
   "execution_count": 97,
   "id": "d918cd86-1789-42a4-8cb8-3c533a5d8437",
   "metadata": {},
   "outputs": [
    {
     "name": "stdout",
     "output_type": "stream",
     "text": [
      "Requirement already satisfied: kagglehub in c:\\users\\manwarsadat\\appdata\\local\\anaconda3\\lib\\site-packages (0.3.13)\n",
      "Requirement already satisfied: packaging in c:\\users\\manwarsadat\\appdata\\local\\anaconda3\\lib\\site-packages (from kagglehub) (24.2)\n",
      "Requirement already satisfied: pyyaml in c:\\users\\manwarsadat\\appdata\\local\\anaconda3\\lib\\site-packages (from kagglehub) (6.0.2)\n",
      "Requirement already satisfied: requests in c:\\users\\manwarsadat\\appdata\\local\\anaconda3\\lib\\site-packages (from kagglehub) (2.32.3)\n",
      "Requirement already satisfied: tqdm in c:\\users\\manwarsadat\\appdata\\local\\anaconda3\\lib\\site-packages (from kagglehub) (4.67.1)\n",
      "Requirement already satisfied: charset-normalizer<4,>=2 in c:\\users\\manwarsadat\\appdata\\local\\anaconda3\\lib\\site-packages (from requests->kagglehub) (3.3.2)\n",
      "Requirement already satisfied: idna<4,>=2.5 in c:\\users\\manwarsadat\\appdata\\local\\anaconda3\\lib\\site-packages (from requests->kagglehub) (3.7)\n",
      "Requirement already satisfied: urllib3<3,>=1.21.1 in c:\\users\\manwarsadat\\appdata\\local\\anaconda3\\lib\\site-packages (from requests->kagglehub) (2.3.0)\n",
      "Requirement already satisfied: certifi>=2017.4.17 in c:\\users\\manwarsadat\\appdata\\local\\anaconda3\\lib\\site-packages (from requests->kagglehub) (2025.4.26)\n",
      "Requirement already satisfied: colorama in c:\\users\\manwarsadat\\appdata\\local\\anaconda3\\lib\\site-packages (from tqdm->kagglehub) (0.4.6)\n"
     ]
    }
   ],
   "source": [
    "# Step 1: Install the KaggleHub library\n",
    "# The '!' command runs a shell command in Google Colab/Jupyter.\n",
    "!pip install kagglehub\n",
    "\n",
    "# Step 2: Import the necessary libraries\n",
    "import kagglehub\n",
    "\n",
    "import os # This library helps work with file paths"
   ]
  },
  {
   "cell_type": "markdown",
   "id": "10f71209-c7b2-45ac-860e-f7942ad40592",
   "metadata": {},
   "source": [
    "# The following method ensures that you will always work with the latest version of the dataset."
   ]
  },
  {
   "cell_type": "code",
   "execution_count": 98,
   "id": "236c3bbe-1f98-44ab-b077-40eab8b464a4",
   "metadata": {},
   "outputs": [
    {
     "name": "stdout",
     "output_type": "stream",
     "text": [
      "Downloading the dataset...\n"
     ]
    }
   ],
   "source": [
    "# Step 3: Download the dataset\n",
    "# This will download the files to a local folder and return the path.\n",
    "# In Google Colab, it will ask for authentication the first time.\n",
    "print(\"Downloading the dataset...\")"
   ]
  },
  {
   "cell_type": "code",
   "execution_count": 99,
   "id": "abb86980-0f52-4bf8-86b2-8f53e12a84b1",
   "metadata": {},
   "outputs": [
    {
     "name": "stdout",
     "output_type": "stream",
     "text": [
      "Dataset downloaded to: C:\\Users\\manwarsadat\\.cache\\kagglehub\\datasets\\ulrikthygepedersen\\online-retail-dataset\\versions\\2\n"
     ]
    }
   ],
   "source": [
    "# Tells the kagglehub library to find the dataset identified by \"pavansubhasht/ibm-hr-analytics-attrition-dataset\"\n",
    "# Saves the files to a temporary folder on the computer and then stores the location (the path) of that folder in the variable called 'path'\n",
    "path = kagglehub.dataset_download(\"ulrikthygepedersen/online-retail-dataset\")\n",
    "print(f\"Dataset downloaded to: {path}\")"
   ]
  },
  {
   "cell_type": "code",
   "execution_count": 100,
   "id": "bcc9ebcc-33a5-405d-8c57-9d534eaa68e9",
   "metadata": {},
   "outputs": [],
   "source": [
    "file_name = 'online_retail.csv'"
   ]
  },
  {
   "cell_type": "code",
   "execution_count": 101,
   "id": "4645a23e-12fa-4683-b0a4-355eb992d159",
   "metadata": {},
   "outputs": [],
   "source": [
    "file_path = r\"C:\\Users\\manwarsadat\\.cache\\kagglehub\\datasets\\ulrikthygepedersen\\online-retail-dataset\\versions\\2\\online_retail.csv\""
   ]
  },
  {
   "cell_type": "code",
   "execution_count": 102,
   "id": "8f007065-a989-4c43-84f0-6e997eebe929",
   "metadata": {},
   "outputs": [],
   "source": [
    "df = pd.read_csv(file_path, encoding='latin1')"
   ]
  },
  {
   "cell_type": "code",
   "execution_count": 103,
   "id": "d376bf6c-c949-4a90-a1be-30a9ce3e092f",
   "metadata": {},
   "outputs": [
    {
     "name": "stdout",
     "output_type": "stream",
     "text": [
      "\n",
      "Dataset loaded successfully!\n",
      "  InvoiceNo StockCode                          Description  Quantity  \\\n",
      "0    536365    85123A   WHITE HANGING HEART T-LIGHT HOLDER         6   \n",
      "1    536365     71053                  WHITE METAL LANTERN         6   \n",
      "2    536365    84406B       CREAM CUPID HEARTS COAT HANGER         8   \n",
      "3    536365    84029G  KNITTED UNION FLAG HOT WATER BOTTLE         6   \n",
      "4    536365    84029E       RED WOOLLY HOTTIE WHITE HEART.         6   \n",
      "\n",
      "           InvoiceDate  UnitPrice  CustomerID         Country  \n",
      "0  2010-12-01 08:26:00       2.55     17850.0  United Kingdom  \n",
      "1  2010-12-01 08:26:00       3.39     17850.0  United Kingdom  \n",
      "2  2010-12-01 08:26:00       2.75     17850.0  United Kingdom  \n",
      "3  2010-12-01 08:26:00       3.39     17850.0  United Kingdom  \n",
      "4  2010-12-01 08:26:00       3.39     17850.0  United Kingdom  \n"
     ]
    }
   ],
   "source": [
    "# Step 5: Display the first 5 rows to confirm it's working\n",
    "print(\"\\nDataset loaded successfully!\")\n",
    "print(df.head())\n"
   ]
  },
  {
   "cell_type": "markdown",
   "id": "8feded8e-b3cd-4f05-9ab8-8863d26485f7",
   "metadata": {},
   "source": [
    "# Data Preprocessing"
   ]
  },
  {
   "cell_type": "markdown",
   "id": "ff8ff7cf-0199-4ec9-9343-9191bdfaeeaf",
   "metadata": {},
   "source": [
    "## Initial Analysis On Our Dataset"
   ]
  },
  {
   "cell_type": "code",
   "execution_count": 104,
   "id": "7c4f999a-d71d-44a0-a49e-6991bb812820",
   "metadata": {},
   "outputs": [
    {
     "name": "stdout",
     "output_type": "stream",
     "text": [
      "<class 'pandas.core.frame.DataFrame'>\n",
      "RangeIndex: 541909 entries, 0 to 541908\n",
      "Data columns (total 8 columns):\n",
      " #   Column       Non-Null Count   Dtype  \n",
      "---  ------       --------------   -----  \n",
      " 0   InvoiceNo    541909 non-null  object \n",
      " 1   StockCode    541909 non-null  object \n",
      " 2   Description  540455 non-null  object \n",
      " 3   Quantity     541909 non-null  int64  \n",
      " 4   InvoiceDate  541909 non-null  object \n",
      " 5   UnitPrice    541909 non-null  float64\n",
      " 6   CustomerID   406829 non-null  float64\n",
      " 7   Country      541909 non-null  object \n",
      "dtypes: float64(2), int64(1), object(5)\n",
      "memory usage: 33.1+ MB\n"
     ]
    }
   ],
   "source": [
    "df.info()"
   ]
  },
  {
   "cell_type": "code",
   "execution_count": 105,
   "id": "581f768b-ae22-4a68-a63f-5f654a5d7461",
   "metadata": {},
   "outputs": [
    {
     "data": {
      "text/plain": [
       "(541909, 8)"
      ]
     },
     "execution_count": 105,
     "metadata": {},
     "output_type": "execute_result"
    }
   ],
   "source": [
    "df.shape"
   ]
  },
  {
   "cell_type": "code",
   "execution_count": 106,
   "id": "467e08c6-7f1f-44d1-a0be-ce092696c83e",
   "metadata": {},
   "outputs": [
    {
     "data": {
      "text/plain": [
       "InvoiceNo           0\n",
       "StockCode           0\n",
       "Description      1454\n",
       "Quantity            0\n",
       "InvoiceDate         0\n",
       "UnitPrice           0\n",
       "CustomerID     135080\n",
       "Country             0\n",
       "dtype: int64"
      ]
     },
     "execution_count": 106,
     "metadata": {},
     "output_type": "execute_result"
    }
   ],
   "source": [
    "df.isnull().sum()"
   ]
  },
  {
   "cell_type": "code",
   "execution_count": 88,
   "id": "5d8073dc-9fda-4113-8c24-3e8e81503e0f",
   "metadata": {},
   "outputs": [],
   "source": [
    "#Our dataset has 541909 rows and 8 columns.\n",
    "\n",
    "#Our dataset has 1 integer, 2 floats and 5 objects data types.\n",
    "\n",
    "#There are 1454 and 135080 missing values in Description and CustomerID columns respectively."
   ]
  },
  {
   "cell_type": "markdown",
   "id": "14c9074d-7081-48ef-91fd-15eeeddacdb6",
   "metadata": {},
   "source": [
    "# EDA : Exploratory Data Analysis"
   ]
  },
  {
   "cell_type": "markdown",
   "id": "f11c12d9-c3d0-42c4-9a6e-197350579a2d",
   "metadata": {},
   "source": [
    "## Dealing with Missing values"
   ]
  },
  {
   "cell_type": "code",
   "execution_count": 107,
   "id": "52c9d812-710c-43f5-a98b-972c7772decf",
   "metadata": {},
   "outputs": [
    {
     "name": "stdout",
     "output_type": "stream",
     "text": [
      "Shape of data before removing NaN's CustomerID (541909, 8)\n",
      "Shape of data after removing NaN's CustomerID (406829, 8)\n"
     ]
    }
   ],
   "source": [
    "#  Removing NaN's in Customer ID\n",
    "print(\"Shape of data before removing NaN's CustomerID\",df.shape)\n",
    "df.dropna(subset=\"CustomerID\",axis=0,inplace=True)\n",
    "print(\"Shape of data after removing NaN's CustomerID\",df.shape)"
   ]
  },
  {
   "cell_type": "code",
   "execution_count": 108,
   "id": "3263a777-a443-47e4-a884-2a45c0ab9ad8",
   "metadata": {},
   "outputs": [
    {
     "name": "stdout",
     "output_type": "stream",
     "text": [
      "Missing values in each column after cleaning customerID :\n",
      " InvoiceNo      0\n",
      "StockCode      0\n",
      "Description    0\n",
      "Quantity       0\n",
      "InvoiceDate    0\n",
      "UnitPrice      0\n",
      "CustomerID     0\n",
      "Country        0\n",
      "dtype: int64\n"
     ]
    }
   ],
   "source": [
    "print(\"Missing values in each column after cleaning customerID :\\n\",df.isnull().sum())"
   ]
  },
  {
   "cell_type": "markdown",
   "id": "4887f6a6-efed-46c4-89c2-f52e61be653e",
   "metadata": {},
   "source": [
    "## Removing cancelled products from invoice"
   ]
  },
  {
   "cell_type": "code",
   "execution_count": 109,
   "id": "447281b7-77c8-4bba-b98a-8b1bdba8406f",
   "metadata": {},
   "outputs": [
    {
     "name": "stdout",
     "output_type": "stream",
     "text": [
      "Dataset is free from cancelled products information\n"
     ]
    }
   ],
   "source": [
    "#using one's compliment operator (~) we can unselect all the Invoice column which doesnt contain \"C\".\n",
    "df = df[~df.InvoiceNo.str.contains('C',na=False)]\n",
    "print(\"Dataset is free from cancelled products information\")"
   ]
  },
  {
   "cell_type": "markdown",
   "id": "62cc4cf5-2f6f-49f5-a1c6-bdb4fbd179c3",
   "metadata": {},
   "source": [
    "## Removing Duplicates"
   ]
  },
  {
   "cell_type": "code",
   "execution_count": 110,
   "id": "2b0889a4-2a52-4775-95d1-142b06fac11e",
   "metadata": {},
   "outputs": [
    {
     "name": "stdout",
     "output_type": "stream",
     "text": [
      "Number of duplicates before cleaning: 5192\n",
      "Number of duplicates after cleaning: 0\n"
     ]
    }
   ],
   "source": [
    "# Removing duplicates (Values in all columns are identical)\n",
    "print(\"Number of duplicates before cleaning:\",df.duplicated().sum())\n",
    "df = df.drop_duplicates(keep=\"first\")\n",
    "print(\"Number of duplicates after cleaning:\",df.duplicated().sum())\n"
   ]
  },
  {
   "cell_type": "markdown",
   "id": "1a09acdd-0350-4915-a3f7-fa0180557702",
   "metadata": {},
   "source": [
    "## Checking for negative value"
   ]
  },
  {
   "cell_type": "code",
   "execution_count": 47,
   "id": "f06beca8-6f21-4815-a406-6a99a093c266",
   "metadata": {},
   "outputs": [
    {
     "name": "stdout",
     "output_type": "stream",
     "text": [
      "Negative value in Quantity is: 0\n",
      "Negative value in UnitPrice is: 0\n"
     ]
    }
   ],
   "source": [
    "print(\"Negative value in Quantity is:\",(df.Quantity<0).sum())\n",
    "print(\"Negative value in UnitPrice is:\",(df.UnitPrice<0).sum())"
   ]
  },
  {
   "cell_type": "markdown",
   "id": "7cdee0e1-6630-4fd2-9a12-6b7ad128d97a",
   "metadata": {},
   "source": [
    "## Cleaning Outliers"
   ]
  },
  {
   "cell_type": "code",
   "execution_count": 111,
   "id": "f2362d05-e29a-4523-87f3-9d609e8f7123",
   "metadata": {},
   "outputs": [],
   "source": [
    "def outlier_thresholds(dataframe, variable):\n",
    "    quartile1 = dataframe[variable].quantile(0.01)\n",
    "    quartile3 = dataframe[variable].quantile(0.99)\n",
    "    interquantile_range = quartile3 - quartile1\n",
    "    up_limit = quartile3 + 1.5 * interquantile_range\n",
    "    low_limit = quartile1 - 1.5 * interquantile_range\n",
    "    return up_limit, low_limit\n",
    "\n",
    "def replace_with_threshold(dataframe, variable):\n",
    "    up_limit, low_limit = outlier_thresholds(dataframe, variable)\n",
    "    # dataframe.loc[(dataframe[variable] < low_limit), variable] = low_limit\n",
    "    dataframe.loc[(dataframe[variable] > up_limit), variable] = up_limit"
   ]
  },
  {
   "cell_type": "code",
   "execution_count": 112,
   "id": "8230193e-48df-431a-961f-45ed57c5557e",
   "metadata": {},
   "outputs": [
    {
     "data": {
      "image/png": "[encoded data removed]",
      "text/plain": [
       "<Figure size 2000x500 with 2 Axes>"
      ]
     },
     "metadata": {},
     "output_type": "display_data"
    }
   ],
   "source": [
    "# Observing them before removing outliers.\n",
    "import matplotlib.pyplot as plt\n",
    "f, ax = plt.subplots(2,1, figsize = (20,5))\n",
    "col_list = [\"Quantity\",\"UnitPrice\"]\n",
    "for i in range(0,2):\n",
    "    ax[i].boxplot(df[col_list[i]],flierprops = dict(marker = \"s\", markerfacecolor = \"red\"), vert = 0)\n",
    "plt.show()"
   ]
  },
  {
   "cell_type": "code",
   "execution_count": 113,
   "id": "1989d0ca-8311-4518-8263-427aaa5a4572",
   "metadata": {},
   "outputs": [
    {
     "data": {
      "image/png": "[encoded data removed]",
      "text/plain": [
       "<Figure size 2000x500 with 2 Axes>"
      ]
     },
     "metadata": {},
     "output_type": "display_data"
    }
   ],
   "source": [
    "# Applying the functions for remove the outlier.\n",
    "df['Quantity'] = df['Quantity'].astype(float)\n",
    "df['UnitPrice'] = df['UnitPrice'].astype(float)\n",
    "replace_with_threshold(df, \"Quantity\")\n",
    "replace_with_threshold(df, \"UnitPrice\")\n",
    "# Observing them after removing outliers.\n",
    "f, ax = plt.subplots(2,1, figsize = (20,5))\n",
    "for i in range(0,2):\n",
    "    ax[i].boxplot(df[col_list[i]],flierprops = dict(marker = \"s\", markerfacecolor = \"red\"), vert = 0)\n",
    "plt.show()"
   ]
  },
  {
   "cell_type": "markdown",
   "id": "1afc3a7f-a59f-4359-b503-a2bb94dac374",
   "metadata": {},
   "source": [
    "# Feature Engineering"
   ]
  },
  {
   "cell_type": "code",
   "execution_count": 114,
   "id": "a2a27dbc-60a3-496d-bee2-1b6d9db0d508",
   "metadata": {},
   "outputs": [],
   "source": [
    "#Creating new feature Revenue\n",
    "df[\"Revenue\"] = df[\"Quantity\"] * df[\"UnitPrice\"]"
   ]
  },
  {
   "cell_type": "code",
   "execution_count": 115,
   "id": "65b4f4eb-cbfa-433e-86c3-8af25626faa8",
   "metadata": {},
   "outputs": [],
   "source": [
    "#Creating Features for RFM Model\n",
    "#Changing data type to datetime\n",
    "df['InvoiceDate'] = pd.to_datetime(df['InvoiceDate'])"
   ]
  },
  {
   "cell_type": "code",
   "execution_count": 116,
   "id": "c75ffd87-bb26-4dd4-8b2f-3ed03437b464",
   "metadata": {},
   "outputs": [
    {
     "name": "stdout",
     "output_type": "stream",
     "text": [
      "Max date : 2011-12-09 12:50:00\n",
      "Min date : 2010-12-01 08:26:00\n"
     ]
    }
   ],
   "source": [
    "print(\"Max date :\",df[\"InvoiceDate\"].max())\n",
    "print(\"Min date :\",df[\"InvoiceDate\"].min())"
   ]
  },
  {
   "cell_type": "code",
   "execution_count": 117,
   "id": "c5d3bb76-4b67-46a0-90ee-0280627da18c",
   "metadata": {},
   "outputs": [],
   "source": [
    "#RFM Featuring\n",
    "\n",
    "#Set Latest date 2011-12-10 as last invoice date was 2011-12-09.\n",
    "import datetime as dt\n",
    "Latest_Date = dt.datetime(2011,12,10)\n",
    "\n",
    "#Creating RFM features with subset of customerID\n",
    "RFM = df.groupby('CustomerID').agg({'InvoiceDate': lambda x: (Latest_Date - x.max()).days, \n",
    "                                                 'InvoiceNo': lambda x: x.nunique(), \n",
    "                                                 \"Revenue\": lambda x: x.sum()})\n",
    "                                \n",
    "RFM['InvoiceDate'] = RFM['InvoiceDate'].astype(int)\n",
    "\n",
    "#Renaming column names to Recency, Frequency and Monetary\n",
    "RFM.rename(columns={'InvoiceDate': 'Recency', \n",
    "                         'InvoiceNo': 'Frequency', \n",
    "                         'Revenue': 'Monetary'}, inplace=True)\n",
    "\n"
   ]
  },
  {
   "cell_type": "code",
   "execution_count": 118,
   "id": "c41f78a7-468b-4b9c-a2b7-dda56827a736",
   "metadata": {},
   "outputs": [],
   "source": [
    "#Recency score based on quantiles\n",
    "#Assigning labels from 1-5,  1 being the lowest recency\n",
    "RFM[\"Recency_score\"] = pd.qcut(RFM['Recency'], 5, labels = [5, 4, 3, 2, 1])\n",
    "\n",
    "#Frequency score\n",
    "RFM[\"Frequency_score\"] = pd.qcut(RFM['Frequency'].rank(method = \"first\"), 5, labels = [1, 2, 3, 4, 5])"
   ]
  },
  {
   "cell_type": "code",
   "execution_count": 119,
   "id": "94866cfa-c029-4cec-948b-8f716519e916",
   "metadata": {},
   "outputs": [],
   "source": [
    "RFM[\"rfm_segment\"] = RFM['Recency_score'].astype(str) + RFM['Frequency_score'].astype(str)"
   ]
  },
  {
   "cell_type": "code",
   "execution_count": 120,
   "id": "57cd1ce9-128f-4c82-b8fb-ea8a7d00405f",
   "metadata": {},
   "outputs": [
    {
     "data": {
      "text/html": [
       "<div>\n",
       "<style scoped>\n",
       "    .dataframe tbody tr th:only-of-type {\n",
       "        vertical-align: middle;\n",
       "    }\n",
       "\n",
       "    .dataframe tbody tr th {\n",
       "        vertical-align: top;\n",
       "    }\n",
       "\n",
       "    .dataframe thead th {\n",
       "        text-align: right;\n",
       "    }\n",
       "</style>\n",
       "<table border=\"1\" class=\"dataframe\">\n",
       "  <thead>\n",
       "    <tr style=\"text-align: right;\">\n",
       "      <th></th>\n",
       "      <th>Recency</th>\n",
       "      <th>Frequency</th>\n",
       "      <th>Monetary</th>\n",
       "      <th>Recency_score</th>\n",
       "      <th>Frequency_score</th>\n",
       "      <th>rfm_segment</th>\n",
       "    </tr>\n",
       "    <tr>\n",
       "      <th>CustomerID</th>\n",
       "      <th></th>\n",
       "      <th></th>\n",
       "      <th></th>\n",
       "      <th></th>\n",
       "      <th></th>\n",
       "      <th></th>\n",
       "    </tr>\n",
       "  </thead>\n",
       "  <tbody>\n",
       "    <tr>\n",
       "      <th>12346.0</th>\n",
       "      <td>325</td>\n",
       "      <td>1</td>\n",
       "      <td>310.44</td>\n",
       "      <td>1</td>\n",
       "      <td>1</td>\n",
       "      <td>11</td>\n",
       "    </tr>\n",
       "    <tr>\n",
       "      <th>12347.0</th>\n",
       "      <td>2</td>\n",
       "      <td>7</td>\n",
       "      <td>4310.00</td>\n",
       "      <td>5</td>\n",
       "      <td>5</td>\n",
       "      <td>55</td>\n",
       "    </tr>\n",
       "    <tr>\n",
       "      <th>12348.0</th>\n",
       "      <td>75</td>\n",
       "      <td>4</td>\n",
       "      <td>1770.78</td>\n",
       "      <td>2</td>\n",
       "      <td>4</td>\n",
       "      <td>24</td>\n",
       "    </tr>\n",
       "    <tr>\n",
       "      <th>12349.0</th>\n",
       "      <td>18</td>\n",
       "      <td>1</td>\n",
       "      <td>1491.72</td>\n",
       "      <td>4</td>\n",
       "      <td>1</td>\n",
       "      <td>41</td>\n",
       "    </tr>\n",
       "    <tr>\n",
       "      <th>12350.0</th>\n",
       "      <td>310</td>\n",
       "      <td>1</td>\n",
       "      <td>331.46</td>\n",
       "      <td>1</td>\n",
       "      <td>1</td>\n",
       "      <td>11</td>\n",
       "    </tr>\n",
       "    <tr>\n",
       "      <th>...</th>\n",
       "      <td>...</td>\n",
       "      <td>...</td>\n",
       "      <td>...</td>\n",
       "      <td>...</td>\n",
       "      <td>...</td>\n",
       "      <td>...</td>\n",
       "    </tr>\n",
       "    <tr>\n",
       "      <th>18280.0</th>\n",
       "      <td>277</td>\n",
       "      <td>1</td>\n",
       "      <td>180.60</td>\n",
       "      <td>1</td>\n",
       "      <td>2</td>\n",
       "      <td>12</td>\n",
       "    </tr>\n",
       "    <tr>\n",
       "      <th>18281.0</th>\n",
       "      <td>180</td>\n",
       "      <td>1</td>\n",
       "      <td>80.82</td>\n",
       "      <td>1</td>\n",
       "      <td>2</td>\n",
       "      <td>12</td>\n",
       "    </tr>\n",
       "    <tr>\n",
       "      <th>18282.0</th>\n",
       "      <td>7</td>\n",
       "      <td>2</td>\n",
       "      <td>178.05</td>\n",
       "      <td>5</td>\n",
       "      <td>3</td>\n",
       "      <td>53</td>\n",
       "    </tr>\n",
       "    <tr>\n",
       "      <th>18283.0</th>\n",
       "      <td>3</td>\n",
       "      <td>16</td>\n",
       "      <td>2045.53</td>\n",
       "      <td>5</td>\n",
       "      <td>5</td>\n",
       "      <td>55</td>\n",
       "    </tr>\n",
       "    <tr>\n",
       "      <th>18287.0</th>\n",
       "      <td>42</td>\n",
       "      <td>3</td>\n",
       "      <td>1837.28</td>\n",
       "      <td>3</td>\n",
       "      <td>4</td>\n",
       "      <td>34</td>\n",
       "    </tr>\n",
       "  </tbody>\n",
       "</table>\n",
       "<p>4339 rows × 6 columns</p>\n",
       "</div>"
      ],
      "text/plain": [
       "            Recency  Frequency  Monetary Recency_score Frequency_score  \\\n",
       "CustomerID                                                               \n",
       "12346.0         325          1    310.44             1               1   \n",
       "12347.0           2          7   4310.00             5               5   \n",
       "12348.0          75          4   1770.78             2               4   \n",
       "12349.0          18          1   1491.72             4               1   \n",
       "12350.0         310          1    331.46             1               1   \n",
       "...             ...        ...       ...           ...             ...   \n",
       "18280.0         277          1    180.60             1               2   \n",
       "18281.0         180          1     80.82             1               2   \n",
       "18282.0           7          2    178.05             5               3   \n",
       "18283.0           3         16   2045.53             5               5   \n",
       "18287.0          42          3   1837.28             3               4   \n",
       "\n",
       "           rfm_segment  \n",
       "CustomerID              \n",
       "12346.0             11  \n",
       "12347.0             55  \n",
       "12348.0             24  \n",
       "12349.0             41  \n",
       "12350.0             11  \n",
       "...                ...  \n",
       "18280.0             12  \n",
       "18281.0             12  \n",
       "18282.0             53  \n",
       "18283.0             55  \n",
       "18287.0             34  \n",
       "\n",
       "[4339 rows x 6 columns]"
      ]
     },
     "execution_count": 120,
     "metadata": {},
     "output_type": "execute_result"
    }
   ],
   "source": [
    "RFM"
   ]
  },
  {
   "cell_type": "code",
   "execution_count": null,
   "id": "0ffe7e59-f90b-4135-8d36-5872de9ea753",
   "metadata": {},
   "outputs": [],
   "source": []
  }
 ],
 "metadata": {
  "kernelspec": {
   "display_name": "Python 3 (ipykernel)",
   "language": "python",
   "name": "python3"
  },
  "language_info": {
   "codemirror_mode": {
    "name": "ipython",
    "version": 3
   },
   "file_extension": ".py",
   "mimetype": "text/x-python",
   "name": "python",
   "nbconvert_exporter": "python",
   "pygments_lexer": "ipython3",
   "version": "3.13.5"
  }
 },
 "nbformat": 4,
 "nbformat_minor": 5
}
