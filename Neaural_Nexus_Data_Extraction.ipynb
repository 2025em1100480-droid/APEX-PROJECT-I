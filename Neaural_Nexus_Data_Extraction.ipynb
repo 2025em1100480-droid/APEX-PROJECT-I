{
 "cells": [
  {
   "cell_type": "code",
   "execution_count": null,
   "id": "eb5a2213-d12a-42b5-8766-54d6ac6f16bb",
   "metadata": {},
   "outputs": [
    {
     "name": "stdout",
     "output_type": "stream",
     "text": [
      "Hello World. Lets start our journey towards Data Scien & AI\n"
     ]
    }
   ],
   "source": [
    "print('Hello World. Lets start our journey towards Data Scien & AI')"
   ]
  },
  {
   "cell_type": "code",
   "execution_count": null,
   "id": "c1ee4099-657e-4a72-9741-1ed92c6a1844",
   "metadata": {},
   "outputs": [],
   "source": [
    "# Import the  library\n",
    "import pandas as pd\n",
    "import datetime as dt\n",
    "import matplotlib.pyplot as plt\n",
    "import seaborn as sns\n",
    "import numpy as np"
   ]
  },
  {
   "attachments": {},
   "cell_type": "markdown",
   "id": "76bd929f",
   "metadata": {},
   "source": [
    "# Phase - 1"
   ]
  },
  {
   "attachments": {},
   "cell_type": "markdown",
   "id": "4017354f-b8fc-4848-be3a-a4f1675da518",
   "metadata": {},
   "source": [
    "### Accessing the Downloaded .csv Dataset File"
   ]
  },
  {
   "cell_type": "code",
   "execution_count": null,
   "id": "bc599c6a-bb7d-48ac-abd2-e33c70162cd0",
   "metadata": {},
   "outputs": [],
   "source": [
    "df = pd.read_csv('online_retail.csv')"
   ]
  },
  {
   "cell_type": "code",
   "execution_count": null,
   "id": "d918cd86-1789-42a4-8cb8-3c533a5d8437",
   "metadata": {},
   "outputs": [
    {
     "name": "stdout",
     "output_type": "stream",
     "text": [
      "Requirement already satisfied: kagglehub in c:\\users\\manwarsadat\\appdata\\local\\anaconda3\\lib\\site-packages (0.3.13)\n",
      "Requirement already satisfied: packaging in c:\\users\\manwarsadat\\appdata\\local\\anaconda3\\lib\\site-packages (from kagglehub) (24.2)\n",
      "Requirement already satisfied: pyyaml in c:\\users\\manwarsadat\\appdata\\local\\anaconda3\\lib\\site-packages (from kagglehub) (6.0.2)\n",
      "Requirement already satisfied: requests in c:\\users\\manwarsadat\\appdata\\local\\anaconda3\\lib\\site-packages (from kagglehub) (2.32.3)\n",
      "Requirement already satisfied: tqdm in c:\\users\\manwarsadat\\appdata\\local\\anaconda3\\lib\\site-packages (from kagglehub) (4.67.1)\n",
      "Requirement already satisfied: charset-normalizer<4,>=2 in c:\\users\\manwarsadat\\appdata\\local\\anaconda3\\lib\\site-packages (from requests->kagglehub) (3.3.2)\n",
      "Requirement already satisfied: idna<4,>=2.5 in c:\\users\\manwarsadat\\appdata\\local\\anaconda3\\lib\\site-packages (from requests->kagglehub) (3.7)\n",
      "Requirement already satisfied: urllib3<3,>=1.21.1 in c:\\users\\manwarsadat\\appdata\\local\\anaconda3\\lib\\site-packages (from requests->kagglehub) (2.3.0)\n",
      "Requirement already satisfied: certifi>=2017.4.17 in c:\\users\\manwarsadat\\appdata\\local\\anaconda3\\lib\\site-packages (from requests->kagglehub) (2025.4.26)\n",
      "Requirement already satisfied: colorama in c:\\users\\manwarsadat\\appdata\\local\\anaconda3\\lib\\site-packages (from tqdm->kagglehub) (0.4.6)\n"
     ]
    }
   ],
   "source": [
    "# Step 1: Install the KaggleHub library\n",
    "# The '!' command runs a shell command in Google Colab/Jupyter.\n",
    "!pip install kagglehub\n",
    "\n",
    "# Step 2: Import the necessary libraries\n",
    "import kagglehub\n",
    "\n",
    "import os # This library helps work with file paths"
   ]
  },
  {
   "attachments": {},
   "cell_type": "markdown",
   "id": "10f71209-c7b2-45ac-860e-f7942ad40592",
   "metadata": {},
   "source": [
    "### The following method ensures that you will always work with the latest version of the dataset."
   ]
  },
  {
   "cell_type": "code",
   "execution_count": null,
   "id": "236c3bbe-1f98-44ab-b077-40eab8b464a4",
   "metadata": {},
   "outputs": [
    {
     "name": "stdout",
     "output_type": "stream",
     "text": [
      "Downloading the dataset...\n"
     ]
    }
   ],
   "source": [
    "# Step 3: Download the dataset\n",
    "# This will download the files to a local folder and return the path.\n",
    "# In Google Colab, it will ask for authentication the first time.\n",
    "print(\"Downloading the dataset...\")"
   ]
  },
  {
   "cell_type": "code",
   "execution_count": null,
   "id": "abb86980-0f52-4bf8-86b2-8f53e12a84b1",
   "metadata": {},
   "outputs": [
    {
     "name": "stdout",
     "output_type": "stream",
     "text": [
      "Dataset downloaded to: C:\\Users\\manwarsadat\\.cache\\kagglehub\\datasets\\ulrikthygepedersen\\online-retail-dataset\\versions\\2\n"
     ]
    }
   ],
   "source": [
    "# Tells the kagglehub library to find the dataset identified by \"pavansubhasht/ibm-hr-analytics-attrition-dataset\"\n",
    "# Saves the files to a temporary folder on the computer and then stores the location (the path) of that folder in the variable called 'path'\n",
    "path = kagglehub.dataset_download(\"ulrikthygepedersen/online-retail-dataset\")\n",
    "print(f\"Dataset downloaded to: {path}\")"
   ]
  },
  {
   "cell_type": "code",
   "execution_count": null,
   "id": "bcc9ebcc-33a5-405d-8c57-9d534eaa68e9",
   "metadata": {},
   "outputs": [],
   "source": [
    "file_name = 'online_retail.csv'"
   ]
  },
  {
   "cell_type": "code",
   "execution_count": null,
   "id": "8f007065-a989-4c43-84f0-6e997eebe929",
   "metadata": {},
   "outputs": [],
   "source": [
    "df = pd.read_csv(file_path, encoding='latin1')"
   ]
  },
  {
   "cell_type": "code",
   "execution_count": null,
   "id": "d376bf6c-c949-4a90-a1be-30a9ce3e092f",
   "metadata": {},
   "outputs": [
    {
     "name": "stdout",
     "output_type": "stream",
     "text": [
      "\n",
      "Dataset loaded successfully!\n",
      "  InvoiceNo StockCode                          Description  Quantity  \\\n",
      "0    536365    85123A   WHITE HANGING HEART T-LIGHT HOLDER         6   \n",
      "1    536365     71053                  WHITE METAL LANTERN         6   \n",
      "2    536365    84406B       CREAM CUPID HEARTS COAT HANGER         8   \n",
      "3    536365    84029G  KNITTED UNION FLAG HOT WATER BOTTLE         6   \n",
      "4    536365    84029E       RED WOOLLY HOTTIE WHITE HEART.         6   \n",
      "\n",
      "           InvoiceDate  UnitPrice  CustomerID         Country  \n",
      "0  2010-12-01 08:26:00       2.55     17850.0  United Kingdom  \n",
      "1  2010-12-01 08:26:00       3.39     17850.0  United Kingdom  \n",
      "2  2010-12-01 08:26:00       2.75     17850.0  United Kingdom  \n",
      "3  2010-12-01 08:26:00       3.39     17850.0  United Kingdom  \n",
      "4  2010-12-01 08:26:00       3.39     17850.0  United Kingdom  \n"
     ]
    }
   ],
   "source": [
    "# Step 5: Display the first 5 rows to confirm it's working\n",
    "print(\"\\nDataset loaded successfully!\")\n",
    "print(df.head())"
   ]
  },
  {
   "attachments": {},
   "cell_type": "markdown",
   "id": "f71845bb",
   "metadata": {},
   "source": [
    "# Phase - 2 \n",
    "\n",
    "### Pre-processing (dataset clean-up)"
   ]
  },
  {
   "cell_type": "code",
   "execution_count": null,
   "id": "4ecc5750",
   "metadata": {},
   "outputs": [],
   "source": [
    "#lets check if we have null values in the dataset\n",
    "\n",
    "print(df.isnull().sum())\n"
   ]
  },
  {
   "cell_type": "code",
   "execution_count": null,
   "id": "fcff4424",
   "metadata": {},
   "outputs": [],
   "source": [
    "# Remove rows with missing CustomerID\n",
    "df = df.dropna(subset=['CustomerID'])\n",
    "\n",
    "# Remove cancelled orders (InvoiceNo starts with 'C')\n",
    "df = df[~df['InvoiceNo'].astype(str).str.startswith('C')]\n",
    "\n",
    "# Remove negative Quantity and UnitPrice\n",
    "df = df[(df['Quantity'] > 0) & (df['UnitPrice'] > 0)]\n",
    "\n",
    "# Add TotalPrice column\n",
    "df['TotalPrice'] = df['Quantity'] * df['UnitPrice']\n",
    "\n",
    "# Convert InvoiceDate to datetime type\n",
    "df['InvoiceDate'] = pd.to_datetime(df['InvoiceDate'])\n",
    "\n",
    "print(\"Data preprocessing complete. Data sample:\")\n",
    "print(df.head())\n",
    "print(df.shape)"
   ]
  },
  {
   "attachments": {},
   "cell_type": "markdown",
   "id": "a3e6dfab",
   "metadata": {},
   "source": [
    "## Exploratory Data Analysis (EDA) \n",
    "#### why we used InoviceDate as index values?\n",
    "#### using InvoiceDate as the index enables us to cluster transactions across all customers within specific time windows, which is essential for Exploratory Data Analysis and understanding sales using time or changes in customer behavior over time.\n"
   ]
  },
  {
   "cell_type": "code",
   "execution_count": null,
   "id": "f757cbcc",
   "metadata": {},
   "outputs": [],
   "source": [
    "\n",
    "# InvoiceDate as index\n",
    "df.set_index('InvoiceDate', inplace=True)\n",
    "\n",
    "# Monthly revenue trend\n",
    "df.resample('M')['TotalPrice'].sum().plot(figsize=(10,6), title='Monthly Revenue over Time')\n",
    "plt.ylabel('Revenue')\n",
    "plt.show()\n",
    "\n",
    "# Top 10 countries by revenue\n",
    "df_reset = df.reset_index()\n",
    "country_sales = df_reset.groupby('Country')['TotalPrice'].sum().sort_values(ascending=False).head(10)\n",
    "country_sales.plot(kind='bar', figsize=(10,5), title='Top 10 Countries by Revenue')\n",
    "plt.ylabel('Revenue')\n",
    "plt.show()\n",
    "\n",
    "# Top customers by total spend\n",
    "customer_sales = df_reset.groupby('CustomerID')['TotalPrice'].sum().sort_values(ascending=False).head(10)\n",
    "customer_sales.plot(kind='bar', figsize=(10,5), title='Top Customers by Total Spend')\n",
    "plt.ylabel('Total Spend')\n",
    "plt.show()"
   ]
  },
  {
   "attachments": {},
   "cell_type": "markdown",
   "id": "663c8f5a",
   "metadata": {},
   "source": [
    "## Feature Engineering"
   ]
  },
  {
   "cell_type": "code",
   "execution_count": null,
   "id": "94d88a1c",
   "metadata": {},
   "outputs": [],
   "source": [
    "# Calculate latest date plus one day for Recency calculation\n",
    "latest_date = df.index.max() + pd.Timedelta(days=1)\n",
    "\n",
    "# Group by CustomerID and calculate RFM metrics\n",
    "grouped = df_reset.groupby('CustomerID')\n",
    "rfm = grouped.agg({\n",
    "    'InvoiceDate': lambda x: (latest_date - x.max()).days,\n",
    "    'InvoiceNo': 'nunique',\n",
    "    'TotalPrice': 'sum'\n",
    "})\n",
    "rfm.rename(columns={'InvoiceDate': 'Recency', 'InvoiceNo': 'Frequency', 'TotalPrice': 'Monetary'}, inplace=True)\n",
    "\n",
    "# Behavioral features\n",
    "extra = grouped.agg({\n",
    "    'Quantity': ['sum', 'mean'],\n",
    "    'TotalPrice': 'mean',\n",
    "    'StockCode': 'nunique'\n",
    "})\n",
    "extra.columns = ['TotalQuantity', 'AvgQuantity', 'AvgSpend', 'ProductDiversity']\n",
    "\n",
    "# Merge behavioral features with RFM\n",
    "df_rfm = rfm.merge(extra, on='CustomerID')\n",
    "print(df_rfm.head())"
   ]
  },
  {
   "attachments": {},
   "cell_type": "markdown",
   "id": "5021a844",
   "metadata": {},
   "source": [
    "\n",
    "## The RFM model explained\n",
    "#### The RFM model is based on the idea that a customer's past behavior is a good predictor of their future behavior. The three components are: \n",
    "#### Recency: Measures how recently a customer made a purchase. The more recent the transaction, the more likely the customer is to respond to future promotions.\n",
    "#### Frequency: Measures how often a customer makes a purchase within a given time period. Frequent buyers are generally more engaged and loyal.\n",
    "#### Monetary Value: Measures how much a customer spends. High-spending customers are more valuable and should be treated accordingly. \n",
    "\n",
    "### RFM Scoring with quantiles "
   ]
  },
  {
   "cell_type": "code",
   "execution_count": null,
   "id": "1a9b67e1",
   "metadata": {},
   "outputs": [],
   "source": [
    "\n",
    "df_rfm['R_Score'] = pd.qcut(df_rfm['Recency'], 5, labels=[5,4,3,2,1])\n",
    "df_rfm['F_Score'] = pd.qcut(df_rfm['Frequency'].rank(method='first'), 5, labels=[1,2,3,4,5])\n",
    "df_rfm['M_Score'] = pd.qcut(df_rfm['Monetary'], 5, labels=[1,2,3,4,5])\n",
    "\n",
    "# Compute combined RFM score\n",
    "df_rfm['RFM_Score'] = df_rfm[['R_Score', 'F_Score', 'M_Score']].astype(int).sum(axis=1)\n",
    "\n",
    "print(df_rfm[['Recency', 'Frequency', 'Monetary', 'R_Score', 'F_Score', 'M_Score', 'RFM_Score']].head())\n",
    "\n",
    "\n"
   ]
  }
 ],
 "metadata": {
  "kernelspec": {
   "display_name": "Python 3 (ipykernel)",
   "language": "python",
   "name": "python3"
  },
  "language_info": {
   "codemirror_mode": {
    "name": "ipython",
    "version": 3
   },
   "file_extension": ".py",
   "mimetype": "text/x-python",
   "name": "python",
   "nbconvert_exporter": "python",
   "pygments_lexer": "ipython3",
   "version": "3.13.5"
  }
 },
 "nbformat": 4,
 "nbformat_minor": 5
}
