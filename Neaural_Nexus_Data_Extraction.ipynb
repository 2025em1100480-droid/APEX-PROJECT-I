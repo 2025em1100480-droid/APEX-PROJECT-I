{
 "cells": [
  {
   "cell_type": "code",
   "execution_count": 23,
   "id": "eb5a2213-d12a-42b5-8766-54d6ac6f16bb",
   "metadata": {},
   "outputs": [
    {
     "name": "stdout",
     "output_type": "stream",
     "text": [
      "Hello World. Lets start our journey towards Data Scien & AI\n"
     ]
    }
   ],
   "source": [
    "print('Hello World. Lets start our journey towards Data Scien & AI')"
   ]
  },
  {
   "cell_type": "code",
   "execution_count": 24,
   "id": "c1ee4099-657e-4a72-9741-1ed92c6a1844",
   "metadata": {},
   "outputs": [],
   "source": [
    "# Import the pandas library\n",
    "import pandas as pd"
   ]
  },
  {
   "cell_type": "markdown",
   "id": "4017354f-b8fc-4848-be3a-a4f1675da518",
   "metadata": {},
   "source": [
    "# Accessing the Downloaded .csv Dataset File"
   ]
  },
  {
   "cell_type": "code",
   "execution_count": 25,
   "id": "bc599c6a-bb7d-48ac-abd2-e33c70162cd0",
   "metadata": {},
   "outputs": [],
   "source": [
    "df = pd.read_csv('online_retail.csv')"
   ]
  },
  {
   "cell_type": "code",
   "execution_count": 26,
   "id": "d918cd86-1789-42a4-8cb8-3c533a5d8437",
   "metadata": {},
   "outputs": [
    {
     "name": "stdout",
     "output_type": "stream",
     "text": [
      "Requirement already satisfied: kagglehub in c:\\users\\manwarsadat\\appdata\\local\\anaconda3\\lib\\site-packages (0.3.13)\n",
      "Requirement already satisfied: packaging in c:\\users\\manwarsadat\\appdata\\local\\anaconda3\\lib\\site-packages (from kagglehub) (24.2)\n",
      "Requirement already satisfied: pyyaml in c:\\users\\manwarsadat\\appdata\\local\\anaconda3\\lib\\site-packages (from kagglehub) (6.0.2)\n",
      "Requirement already satisfied: requests in c:\\users\\manwarsadat\\appdata\\local\\anaconda3\\lib\\site-packages (from kagglehub) (2.32.3)\n",
      "Requirement already satisfied: tqdm in c:\\users\\manwarsadat\\appdata\\local\\anaconda3\\lib\\site-packages (from kagglehub) (4.67.1)\n",
      "Requirement already satisfied: charset-normalizer<4,>=2 in c:\\users\\manwarsadat\\appdata\\local\\anaconda3\\lib\\site-packages (from requests->kagglehub) (3.3.2)\n",
      "Requirement already satisfied: idna<4,>=2.5 in c:\\users\\manwarsadat\\appdata\\local\\anaconda3\\lib\\site-packages (from requests->kagglehub) (3.7)\n",
      "Requirement already satisfied: urllib3<3,>=1.21.1 in c:\\users\\manwarsadat\\appdata\\local\\anaconda3\\lib\\site-packages (from requests->kagglehub) (2.3.0)\n",
      "Requirement already satisfied: certifi>=2017.4.17 in c:\\users\\manwarsadat\\appdata\\local\\anaconda3\\lib\\site-packages (from requests->kagglehub) (2025.4.26)\n",
      "Requirement already satisfied: colorama in c:\\users\\manwarsadat\\appdata\\local\\anaconda3\\lib\\site-packages (from tqdm->kagglehub) (0.4.6)\n"
     ]
    }
   ],
   "source": [
    "# Step 1: Install the KaggleHub library\n",
    "# The '!' command runs a shell command in Google Colab/Jupyter.\n",
    "!pip install kagglehub\n",
    "\n",
    "# Step 2: Import the necessary libraries\n",
    "import kagglehub\n",
    "\n",
    "import os # This library helps work with file paths"
   ]
  },
  {
   "cell_type": "markdown",
   "id": "10f71209-c7b2-45ac-860e-f7942ad40592",
   "metadata": {},
   "source": [
    "# The following method ensures that you will always work with the latest version of the dataset."
   ]
  },
  {
   "cell_type": "code",
   "execution_count": 27,
   "id": "236c3bbe-1f98-44ab-b077-40eab8b464a4",
   "metadata": {},
   "outputs": [
    {
     "name": "stdout",
     "output_type": "stream",
     "text": [
      "Downloading the dataset...\n"
     ]
    }
   ],
   "source": [
    "# Step 3: Download the dataset\n",
    "# This will download the files to a local folder and return the path.\n",
    "# In Google Colab, it will ask for authentication the first time.\n",
    "print(\"Downloading the dataset...\")"
   ]
  },
  {
   "cell_type": "code",
   "execution_count": 28,
   "id": "abb86980-0f52-4bf8-86b2-8f53e12a84b1",
   "metadata": {},
   "outputs": [
    {
     "name": "stdout",
     "output_type": "stream",
     "text": [
      "Dataset downloaded to: C:\\Users\\manwarsadat\\.cache\\kagglehub\\datasets\\ulrikthygepedersen\\online-retail-dataset\\versions\\2\n"
     ]
    }
   ],
   "source": [
    "# Tells the kagglehub library to find the dataset identified by \"pavansubhasht/ibm-hr-analytics-attrition-dataset\"\n",
    "# Saves the files to a temporary folder on the computer and then stores the location (the path) of that folder in the variable called 'path'\n",
    "path = kagglehub.dataset_download(\"ulrikthygepedersen/online-retail-dataset\")\n",
    "print(f\"Dataset downloaded to: {path}\")"
   ]
  },
  {
   "cell_type": "code",
   "execution_count": 29,
   "id": "bcc9ebcc-33a5-405d-8c57-9d534eaa68e9",
   "metadata": {},
   "outputs": [],
   "source": [
    "file_name = 'online_retail.csv'"
   ]
  },
  {
   "cell_type": "code",
   "execution_count": 30,
   "id": "8f007065-a989-4c43-84f0-6e997eebe929",
   "metadata": {},
   "outputs": [],
   "source": [
    "df = pd.read_csv(file_path, encoding='latin1')"
   ]
  },
  {
   "cell_type": "code",
   "execution_count": 31,
   "id": "d376bf6c-c949-4a90-a1be-30a9ce3e092f",
   "metadata": {},
   "outputs": [
    {
     "name": "stdout",
     "output_type": "stream",
     "text": [
      "\n",
      "Dataset loaded successfully!\n",
      "  InvoiceNo StockCode                          Description  Quantity  \\\n",
      "0    536365    85123A   WHITE HANGING HEART T-LIGHT HOLDER         6   \n",
      "1    536365     71053                  WHITE METAL LANTERN         6   \n",
      "2    536365    84406B       CREAM CUPID HEARTS COAT HANGER         8   \n",
      "3    536365    84029G  KNITTED UNION FLAG HOT WATER BOTTLE         6   \n",
      "4    536365    84029E       RED WOOLLY HOTTIE WHITE HEART.         6   \n",
      "\n",
      "           InvoiceDate  UnitPrice  CustomerID         Country  \n",
      "0  2010-12-01 08:26:00       2.55     17850.0  United Kingdom  \n",
      "1  2010-12-01 08:26:00       3.39     17850.0  United Kingdom  \n",
      "2  2010-12-01 08:26:00       2.75     17850.0  United Kingdom  \n",
      "3  2010-12-01 08:26:00       3.39     17850.0  United Kingdom  \n",
      "4  2010-12-01 08:26:00       3.39     17850.0  United Kingdom  \n"
     ]
    }
   ],
   "source": [
    "# Step 5: Display the first 5 rows to confirm it's working\n",
    "print(\"\\nDataset loaded successfully!\")\n",
    "print(df.head())"
   ]
  },
  {
   "cell_type": "code",
   "execution_count": null,
   "id": "456b619e-cd79-43ff-baba-474e3229e83b",
   "metadata": {},
   "outputs": [],
   "source": []
  }
 ],
 "metadata": {
  "kernelspec": {
   "display_name": "Python 3 (ipykernel)",
   "language": "python",
   "name": "python3"
  },
  "language_info": {
   "codemirror_mode": {
    "name": "ipython",
    "version": 3
   },
   "file_extension": ".py",
   "mimetype": "text/x-python",
   "name": "python",
   "nbconvert_exporter": "python",
   "pygments_lexer": "ipython3",
   "version": "3.13.5"
  }
 },
 "nbformat": 4,
 "nbformat_minor": 5
}
